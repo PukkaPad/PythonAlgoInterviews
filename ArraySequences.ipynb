{
 "cells": [
  {
   "cell_type": "markdown",
   "metadata": {},
   "source": [
    "# Arrays"
   ]
  },
  {
   "cell_type": "markdown",
   "metadata": {},
   "source": [
    "## Array sequences\n",
    "\n",
    "list [ ]\n",
    "\n",
    "tuple ( , )\n",
    "\n",
    "string(\" \")\n",
    "\n",
    "All support indexing"
   ]
  },
  {
   "cell_type": "markdown",
   "metadata": {},
   "source": [
    "They are stored and retireved in O(1)"
   ]
  },
  {
   "cell_type": "code",
   "execution_count": 3,
   "metadata": {},
   "outputs": [
    {
     "name": "stdout",
     "output_type": "stream",
     "text": [
      "Length:   0; Size in bytes:   64\n",
      "Length:   1; Size in bytes:   96\n",
      "Length:   2; Size in bytes:   96\n",
      "Length:   3; Size in bytes:   96\n",
      "Length:   4; Size in bytes:   96\n",
      "Length:   5; Size in bytes:  128\n",
      "Length:   6; Size in bytes:  128\n",
      "Length:   7; Size in bytes:  128\n",
      "Length:   8; Size in bytes:  128\n",
      "Length:   9; Size in bytes:  192\n"
     ]
    }
   ],
   "source": [
    "import sys\n",
    "n=10\n",
    "data = []\n",
    "for i in range(n):\n",
    "    a = len(data)\n",
    "    b = sys.getsizeof(data)\n",
    "    print('Length: {0:3d}; Size in bytes: {1:4d}'.format(a,b))\n",
    "    data.append(n)"
   ]
  },
  {
   "cell_type": "markdown",
   "metadata": {},
   "source": [
    "We do not have to dictate the size of the array before we create in Python. It will grab a little bit more memory than it needs and when it's filled up, it creates a new sized array. "
   ]
  },
  {
   "cell_type": "markdown",
   "metadata": {},
   "source": [
    "## Dynamic Arrays"
   ]
  },
  {
   "cell_type": "markdown",
   "metadata": {},
   "source": [
    "### Problem:\n",
    "\n",
    "Given two strings, check to see if they are anagrams. \n",
    "Anagram is when the two string can be writen using the exact same letters.\n",
    "\n",
    "For example: \"clint eastwood\" is an anagram of \"old west action\""
   ]
  },
  {
   "cell_type": "code",
   "execution_count": 5,
   "metadata": {},
   "outputs": [],
   "source": [
    "def anagram(s1, s2):\n",
    "    \n",
    "    # Remove spaces and lowercase\n",
    "    s1 = s1.replace(\" \", \"\").lower()\n",
    "    s2 = s2.replace(\" \", \"\").lower()\n",
    "    \n",
    "    # Return a boolean for sorted match\n",
    "    return sorted(s1) == sorted(s2)"
   ]
  },
  {
   "cell_type": "code",
   "execution_count": 6,
   "metadata": {},
   "outputs": [
    {
     "data": {
      "text/plain": [
       "True"
      ]
     },
     "execution_count": 6,
     "metadata": {},
     "output_type": "execute_result"
    }
   ],
   "source": [
    "anagram( \"Clint Eastwood\",  \"Old West Action\")"
   ]
  },
  {
   "cell_type": "code",
   "execution_count": 7,
   "metadata": {},
   "outputs": [
    {
     "data": {
      "text/plain": [
       "True"
      ]
     },
     "execution_count": 7,
     "metadata": {},
     "output_type": "execute_result"
    }
   ],
   "source": [
    "anagram(\"dog\", \"god\")"
   ]
  },
  {
   "cell_type": "code",
   "execution_count": 8,
   "metadata": {},
   "outputs": [
    {
     "data": {
      "text/plain": [
       "False"
      ]
     },
     "execution_count": 8,
     "metadata": {},
     "output_type": "execute_result"
    }
   ],
   "source": [
    "anagram(\"Brazil\", \"Peru\")"
   ]
  },
  {
   "cell_type": "markdown",
   "metadata": {},
   "source": [
    "Solution without a python module.\n",
    "The solution presented in the video in different from mine. I used a dict comprehension."
   ]
  },
  {
   "cell_type": "code",
   "execution_count": 25,
   "metadata": {},
   "outputs": [],
   "source": [
    "def anagram2(s1, s2):\n",
    "    s1_new = [letter.lower() for letter in s1 if letter != \" \"]\n",
    "    s2_new = [letter.lower() for letter in s2 if letter != \" \"]\n",
    "    if len(s1_new) != len (s2_new):\n",
    "        return False\n",
    "    else:\n",
    "        d_s1 = {letter:s1_new.count(letter) for letter in s1_new}\n",
    "        d_s2 = {letter:s2_new.count(letter) for letter in s2_new}\n",
    "    \n",
    "    return d_s1 == d_s2"
   ]
  },
  {
   "cell_type": "code",
   "execution_count": 26,
   "metadata": {},
   "outputs": [
    {
     "data": {
      "text/plain": [
       "True"
      ]
     },
     "execution_count": 26,
     "metadata": {},
     "output_type": "execute_result"
    }
   ],
   "source": [
    "anagram2( \"Clint Eastwood\",  \"Old West Action\")"
   ]
  },
  {
   "cell_type": "code",
   "execution_count": 27,
   "metadata": {},
   "outputs": [
    {
     "data": {
      "text/plain": [
       "False"
      ]
     },
     "execution_count": 27,
     "metadata": {},
     "output_type": "execute_result"
    }
   ],
   "source": [
    "anagram2( \"Clintt Eastwood\",  \"Old West Action\")"
   ]
  },
  {
   "cell_type": "code",
   "execution_count": 28,
   "metadata": {},
   "outputs": [
    {
     "data": {
      "text/plain": [
       "False"
      ]
     },
     "execution_count": 28,
     "metadata": {},
     "output_type": "execute_result"
    }
   ],
   "source": [
    "anagram2(\"Brazil\", \"Peru\")"
   ]
  },
  {
   "cell_type": "markdown",
   "metadata": {},
   "source": [
    "Without count module"
   ]
  },
  {
   "cell_type": "code",
   "execution_count": 36,
   "metadata": {},
   "outputs": [],
   "source": [
    "cnt1 = {}\n",
    "cnt2 = {}\n",
    "def anagram3(s1, s2):\n",
    "    s1_new = [letter.lower() for letter in s1 if letter != \" \"]\n",
    "    s2_new = [letter.lower() for letter in s2 if letter != \" \"]\n",
    "    if len(s1_new) != len (s2_new):\n",
    "        return False\n",
    "    else:\n",
    "        for letter in s1_new:\n",
    "            if letter in cnt1:\n",
    "                cnt1[letter] += 1\n",
    "            else: cnt1[letter] = 1\n",
    "                \n",
    "        for letter in s2_new:\n",
    "            if letter in cnt2:\n",
    "                cnt2[letter] += 1\n",
    "            else: cnt2[letter] = 1\n",
    "    \n",
    "    return cnt1 == cnt2"
   ]
  },
  {
   "cell_type": "code",
   "execution_count": 37,
   "metadata": {
    "scrolled": true
   },
   "outputs": [
    {
     "data": {
      "text/plain": [
       "True"
      ]
     },
     "execution_count": 37,
     "metadata": {},
     "output_type": "execute_result"
    }
   ],
   "source": [
    "anagram3( \"Clint Eastwood\",  \"Old West Action\")"
   ]
  },
  {
   "cell_type": "code",
   "execution_count": 38,
   "metadata": {},
   "outputs": [
    {
     "data": {
      "text/plain": [
       "False"
      ]
     },
     "execution_count": 38,
     "metadata": {},
     "output_type": "execute_result"
    }
   ],
   "source": [
    "anagram3(\"Brazil\", \"Peru\")"
   ]
  },
  {
   "cell_type": "markdown",
   "metadata": {},
   "source": [
    "## Array Algorithms"
   ]
  },
  {
   "cell_type": "markdown",
   "metadata": {},
   "source": [
    "### Problem:\n",
    "\n",
    "Given an integer array, output all the unique paris that sum up to a specific value k.\n",
    "\n",
    "input:\n",
    "\n",
    "pair_sum([1,3,2,2], 4)\n",
    "\n",
    "returns:\n",
    "\n",
    "(1, 3)\n",
    "\n",
    "(2, 2)"
   ]
  },
  {
   "cell_type": "code",
   "execution_count": 59,
   "metadata": {},
   "outputs": [
    {
     "name": "stdout",
     "output_type": "stream",
     "text": [
      "(1, 3)\n",
      "(2, 2)\n",
      "(5, -1)\n"
     ]
    }
   ],
   "source": [
    "def pair_sum(lst, target):\n",
    "    if len(lst) == 1:\n",
    "        print(\"Not possible\")\n",
    "    else:\n",
    "        for i in range(len(lst)-1):\n",
    "            if lst[i] + lst[i+1] == target:\n",
    "\n",
    "                print(\"({0}, {1})\".format(lst[i], lst[i+1]))\n",
    "pair_sum([1, 3, 2, 2, 5, -1], 4)"
   ]
  },
  {
   "cell_type": "code",
   "execution_count": 50,
   "metadata": {},
   "outputs": [
    {
     "name": "stdout",
     "output_type": "stream",
     "text": [
      "Not possible\n"
     ]
    }
   ],
   "source": [
    "pair_sum([2000], 2000)"
   ]
  },
  {
   "cell_type": "markdown",
   "metadata": {},
   "source": [
    "The way the example did:"
   ]
  },
  {
   "cell_type": "code",
   "execution_count": 56,
   "metadata": {},
   "outputs": [],
   "source": [
    "def pair_sum(array, k):\n",
    "    if len(array) < 2:\n",
    "        return print(\"Too small\")\n",
    "    seen = set()\n",
    "    output = set()\n",
    "    for num in array:\n",
    "        target = k - num\n",
    "        if target not in seen:\n",
    "            seen.add(num)\n",
    "        else:\n",
    "            output.add((min(num, target), max(num, target)))\n",
    "    print('\\n'.join(map(str, list(output))))"
   ]
  },
  {
   "cell_type": "code",
   "execution_count": 58,
   "metadata": {},
   "outputs": [
    {
     "name": "stdout",
     "output_type": "stream",
     "text": [
      "(1, 3)\n",
      "(-1, 5)\n",
      "(2, 2)\n"
     ]
    }
   ],
   "source": [
    "pair_sum([1, 3, 2, 2, 5, -1], 4)"
   ]
  },
  {
   "cell_type": "markdown",
   "metadata": {},
   "source": [
    "### Problem:\n",
    "\n",
    "Largest sum.\n",
    "\n",
    "Take an array with positive and negative integers and find the max sum of that array"
   ]
  },
  {
   "cell_type": "code",
   "execution_count": 62,
   "metadata": {},
   "outputs": [
    {
     "data": {
      "text/plain": [
       "38"
      ]
     },
     "execution_count": 62,
     "metadata": {},
     "output_type": "execute_result"
    }
   ],
   "source": [
    "def largest(a):\n",
    "    if len(a) == 0:\n",
    "        return print(\"Empty array\")\n",
    "    max_sum = current_sum = a[0]\n",
    "    for num in a[1:]:\n",
    "        current_sum = max(current_sum + num, num)\n",
    "        max_sum = max(current_sum, max_sum)\n",
    "    return max_sum\n",
    "        \n",
    "largest([7, 1, 2, -1, 3, 4, 10, -12, 3, 21, -19])    "
   ]
  },
  {
   "cell_type": "markdown",
   "metadata": {},
   "source": [
    "### Problem:\n",
    "\n",
    "Given a string, reverse all the words"
   ]
  },
  {
   "cell_type": "code",
   "execution_count": 88,
   "metadata": {},
   "outputs": [
    {
     "data": {
      "text/plain": [
       "['best', 'the', 'is', 'This']"
      ]
     },
     "execution_count": 88,
     "metadata": {},
     "output_type": "execute_result"
    }
   ],
   "source": [
    "def rev_str(s):\n",
    "    if len(s.split(\" \")) == 1:\n",
    "        return s\n",
    "    \n",
    "    return [rev for rev in list(s.split(\" \")[::-1])]\n",
    "rev_str(\"This is the best\")"
   ]
  },
  {
   "cell_type": "code",
   "execution_count": 89,
   "metadata": {},
   "outputs": [
    {
     "data": {
      "text/plain": [
       "'This'"
      ]
     },
     "execution_count": 89,
     "metadata": {},
     "output_type": "execute_result"
    }
   ],
   "source": [
    "rev_str(\"This\")"
   ]
  },
  {
   "cell_type": "markdown",
   "metadata": {},
   "source": [
    "## Array Analysis"
   ]
  },
  {
   "cell_type": "markdown",
   "metadata": {},
   "source": [
    "Given 2 arrays (assume no duplicates) \n",
    "\n",
    "is 1 array a rotation of another - return True/False\n",
    "\n",
    "same size and elements but start index is different\n",
    "\n",
    "BigO(n) we are going through each array 2x but O(2n) = O(n) since infinite sized lists, constants means nada\n",
    "\n",
    "select an indexed position in list1 and get its value. Find same element in list2 and check index for index from there\n",
    "\n",
    "if any variation then we know its false.\n",
    "\n",
    "Getting to last item without a false means true."
   ]
  },
  {
   "cell_type": "code",
   "execution_count": 119,
   "metadata": {},
   "outputs": [],
   "source": [
    "# def arrayRotation(a1, a2):\n",
    "#     if not a1 or not a2:\n",
    "#         return print (\"One or both arrays are empty\")\n",
    "#     elif len(a1) != len(a2):\n",
    "#         return False\n",
    "#     start_a1 = a1[0]\n",
    "#     index_loop = 0\n",
    "#     if start_a1 not in a2:\n",
    "#         return False\n",
    "    \n",
    "#     start_a2_index = a2.index(start_a1)\n",
    "#     temp = []\n",
    "    \n",
    "#     if start_a2_index in len\n",
    "        "
   ]
  },
  {
   "cell_type": "code",
   "execution_count": 128,
   "metadata": {},
   "outputs": [],
   "source": [
    "def rotation(list1, list2):\n",
    "    if len(list1) != len(list2):\n",
    "        return False\n",
    "    key = list1[0]\n",
    "    key_index = 0\n",
    "    for i in range(len(list2)):\n",
    "        if list2[i] == key:\n",
    "            key_index = i\n",
    "            break\n",
    "    \n",
    "    if key_index == 0:\n",
    "        return False\n",
    "    for x in range(len(list1)):\n",
    "        l2index = (key_index + x) % len(list1)\n",
    "        \n",
    "        if list1[x] != list2[l2index]:\n",
    "            return False\n",
    "    return True"
   ]
  },
  {
   "cell_type": "code",
   "execution_count": 129,
   "metadata": {},
   "outputs": [
    {
     "data": {
      "text/plain": [
       "True"
      ]
     },
     "execution_count": 129,
     "metadata": {},
     "output_type": "execute_result"
    }
   ],
   "source": [
    "rotation([1,2,3,4,5], [4,5,1,2,3])"
   ]
  },
  {
   "cell_type": "code",
   "execution_count": 93,
   "metadata": {},
   "outputs": [
    {
     "name": "stdout",
     "output_type": "stream",
     "text": [
      "a\n",
      "b\n",
      "c\n",
      "d\n",
      "e\n",
      "f\n",
      "g\n",
      "h\n",
      "i\n",
      "j\n",
      "k\n",
      "a\n",
      "b\n",
      "c\n",
      "d\n",
      "e\n",
      "f\n",
      "g\n",
      "h\n",
      "i\n",
      "j\n",
      "k\n",
      "a\n",
      "b\n",
      "c\n",
      "d\n",
      "e\n",
      "f\n"
     ]
    }
   ],
   "source": [
    "mylist = ['a', 'b', 'c', 'd', 'e', 'f', 'g', 'h', 'i', 'j', 'k']\n",
    "i = 0\n",
    "while i <= 27:\n",
    "    print( mylist[i % len(mylist)])\n",
    "    i +=1"
   ]
  },
  {
   "cell_type": "markdown",
   "metadata": {},
   "source": [
    "### Array common elements\n",
    "Common elements in two sorted arrays\n",
    "\n",
    "return the common elements (as an array) between two sorted arrays of integers (ascedning order)\n",
    "\n",
    "Example: The common elements between [1,3,4,6,7,9] and [1,2,4,5,9,10] are [1,4,9]"
   ]
  },
  {
   "cell_type": "code",
   "execution_count": 136,
   "metadata": {},
   "outputs": [],
   "source": [
    "def common_el(a1, a2):\n",
    "    if not a1 or not a2:\n",
    "        return print (\"One or both arrays are empty\")\n",
    "    return sorted(list(set(a1).intersection(a2)))"
   ]
  },
  {
   "cell_type": "code",
   "execution_count": 137,
   "metadata": {},
   "outputs": [
    {
     "data": {
      "text/plain": [
       "[1, 4, 9]"
      ]
     },
     "execution_count": 137,
     "metadata": {},
     "output_type": "execute_result"
    }
   ],
   "source": [
    "common_el([1,3,4,6,7,9], [1,2,4,5,9,10])"
   ]
  },
  {
   "cell_type": "code",
   "execution_count": 138,
   "metadata": {},
   "outputs": [
    {
     "name": "stdout",
     "output_type": "stream",
     "text": [
      "One or both arrays are empty\n"
     ]
    }
   ],
   "source": [
    "common_el([], [1,2,4,5,9,10])"
   ]
  },
  {
   "cell_type": "code",
   "execution_count": 139,
   "metadata": {},
   "outputs": [
    {
     "name": "stdout",
     "output_type": "stream",
     "text": [
      "One or both arrays are empty\n"
     ]
    }
   ],
   "source": [
    "common_el([], [])"
   ]
  },
  {
   "cell_type": "code",
   "execution_count": 140,
   "metadata": {},
   "outputs": [
    {
     "data": {
      "text/plain": [
       "[]"
      ]
     },
     "execution_count": 140,
     "metadata": {},
     "output_type": "execute_result"
    }
   ],
   "source": [
    "common_el([1,3], [5,9,10])"
   ]
  },
  {
   "cell_type": "code",
   "execution_count": null,
   "metadata": {},
   "outputs": [],
   "source": []
  }
 ],
 "metadata": {
  "kernelspec": {
   "display_name": "Python 3",
   "language": "python",
   "name": "python3"
  },
  "language_info": {
   "codemirror_mode": {
    "name": "ipython",
    "version": 3
   },
   "file_extension": ".py",
   "mimetype": "text/x-python",
   "name": "python",
   "nbconvert_exporter": "python",
   "pygments_lexer": "ipython3",
   "version": "3.6.4"
  },
  "varInspector": {
   "cols": {
    "lenName": 16,
    "lenType": 16,
    "lenVar": 40
   },
   "kernels_config": {
    "python": {
     "delete_cmd_postfix": "",
     "delete_cmd_prefix": "del ",
     "library": "var_list.py",
     "varRefreshCmd": "print(var_dic_list())"
    },
    "r": {
     "delete_cmd_postfix": ") ",
     "delete_cmd_prefix": "rm(",
     "library": "var_list.r",
     "varRefreshCmd": "cat(var_dic_list()) "
    }
   },
   "types_to_exclude": [
    "module",
    "function",
    "builtin_function_or_method",
    "instance",
    "_Feature"
   ],
   "window_display": false
  }
 },
 "nbformat": 4,
 "nbformat_minor": 2
}
